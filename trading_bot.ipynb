{
  "nbformat": 4,
  "nbformat_minor": 0,
  "metadata": {
    "colab": {
      "provenance": []
    },
    "kernelspec": {
      "name": "python3",
      "display_name": "Python 3"
    },
    "language_info": {
      "name": "python"
    }
  },
  "cells": [
    {
      "cell_type": "markdown",
      "source": [
        "simplified trading bot"
      ],
      "metadata": {
        "id": "h-mrhgBQiJXZ"
      }
    },
    {
      "cell_type": "code",
      "source": [
        "import yfinance as yf\n",
        "\n",
        "# Configuration\n",
        "symbol = \"AAPL\"  # Stock ticker (e.g., AAPL, BTC-USD)\n",
        "short_window = 5\n",
        "long_window = 20\n",
        "cash = 10000\n",
        "position = 0  # Number of shares held\n",
        "\n",
        "# Fetch historical data\n",
        "data = yf.download(symbol, period=\"1mo\", interval=\"1d\")\n",
        "\n",
        "# Calculate Moving Averages\n",
        "data['Short_MA'] = data['Close'].rolling(window=short_window).mean()\n",
        "data['Long_MA'] = data['Close'].rolling(window=long_window).mean()\n",
        "\n",
        "# Simulated trading logic\n",
        "for i in range(len(data)):\n",
        "    if i < long_window:\n",
        "        continue  # Wait for enough data\n",
        "\n",
        "    price = data['Close'].iloc[i]\n",
        "    short_ma = data['Short_MA'].iloc[i]\n",
        "    long_ma = data['Long_MA'].iloc[i]\n",
        "\n",
        "    # Buy signal\n",
        "    if short_ma > long_ma and position == 0:\n",
        "        # Ensure price is not zero to avoid division by zero\n",
        "        if price > 0:\n",
        "            position = cash // price\n",
        "            cash -= position * price\n",
        "            print(f\"BUY {position} shares at ${price:.2f}\")\n",
        "\n",
        "    # Sell signal\n",
        "    elif short_ma < long_ma and position > 0:\n",
        "        cash += position * price\n",
        "        print(f\"SELL {position} shares at ${price:.2f}\")\n",
        "        position = 0\n",
        "\n",
        "# Final balance\n",
        "portfolio_value = cash + position * data['Close'].iloc[-1]\n",
        "# Extract the scalar value from the Series before formatting\n",
        "print(f\"\\nFinal portfolio value: ${portfolio_value.item():.2f}\")"
      ],
      "metadata": {
        "colab": {
          "base_uri": "https://localhost:8080/"
        },
        "id": "lkHvZBm5iSC1",
        "outputId": "5e839eb6-b2ea-41ee-8be8-7c3d6a882763"
      },
      "execution_count": null,
      "outputs": [
        {
          "output_type": "stream",
          "name": "stderr",
          "text": [
            "/tmp/ipython-input-2-2458275379.py:11: FutureWarning: YF.download() has changed argument auto_adjust default to True\n",
            "  data = yf.download(symbol, period=\"1mo\", interval=\"1d\")\n",
            "[*********************100%***********************]  1 of 1 completed"
          ]
        },
        {
          "output_type": "stream",
          "name": "stdout",
          "text": [
            "\n",
            "Final portfolio value: $10000.00\n"
          ]
        },
        {
          "output_type": "stream",
          "name": "stderr",
          "text": [
            "\n"
          ]
        }
      ]
    }
  ]
}